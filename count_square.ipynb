{
 "cells": [
  {
   "cell_type": "code",
   "execution_count": 1,
   "metadata": {},
   "outputs": [],
   "source": [
    "# Copyright (c) 2023 아이유 에델바이스 (iuedelweiss@daum.net)\n",
    "# The MIT License (MIT)\n",
    "\n",
    "import cv2\n",
    "import os\n",
    "import glob\n",
    "import pandas as pd\n",
    "\n",
    "def count_square(filename):\n",
    "    image = cv2.imread(filename, cv2.IMREAD_GRAYSCALE)\n",
    "    \n",
    "    # resize for higher resolution\n",
    "    height, width = image.shape[:2]\n",
    "    image = cv2.resize(image, (width*2, height*2))\n",
    "    \n",
    "    # convert to binary image and find contours\n",
    "    _, binary_image = cv2.threshold(image, 240, 255, cv2.THRESH_BINARY)\n",
    "    contours, _ = cv2.findContours(binary_image, cv2.RETR_LIST, cv2.CHAIN_APPROX_NONE)\n",
    "    contours = contours[:-1] #remove the outer box\n",
    "\n",
    "    # visualize coutours and label with the count\n",
    "    for i, contour in enumerate(contours[::-1]):\n",
    "        cv2.drawContours(image, [contour], -1, (0, 0, 0), 2)\n",
    "        M = cv2.moments(contour)\n",
    "        if M[\"m00\"] != 0:\n",
    "            cX = int(M[\"m10\"] / M[\"m00\"])\n",
    "            cY = int(M[\"m01\"] / M[\"m00\"])\n",
    "            cv2.drawContours(image, [contour], -1, (0, 255, 0), 2)\n",
    "            cv2.putText(image, str(i + 1), (cX - 15, cY + 5), cv2.FONT_HERSHEY_DUPLEX, 0.5, (0, 0, 0), 1)\n",
    "\n",
    "    cv2.imshow(filename, image)\n",
    "    cv2.waitKey(0)\n",
    "    cv2.destroyAllWindows()\n",
    "\n",
    "    return len(contours)"
   ]
  },
  {
   "cell_type": "code",
   "execution_count": 2,
   "metadata": {},
   "outputs": [
    {
     "name": "stdout",
     "output_type": "stream",
     "text": [
      "Saved results to result.xlsx\n"
     ]
    }
   ],
   "source": [
    "data_dir = 'iuniverse'\n",
    "output_file = 'result.xlsx'\n",
    "\n",
    "areas = []\n",
    "seats = []\n",
    "\n",
    "image_list = glob.glob(os.path.join(data_dir, '*.png'))\n",
    "for image_file in image_list:\n",
    "    seat_count = count_square(image_file)\n",
    "    areas.append(os.path.basename(image_file).split('.')[0])\n",
    "    seats.append(seat_count)\n",
    "\n",
    "areas.append('Total')\n",
    "seats.append(sum(seats))\n",
    "\n",
    "df = pd.DataFrame({\"area\": areas, \"seats\": seats})\n",
    "df.to_excel(output_file, index=False)\n",
    "print(f'Saved results to {output_file}')"
   ]
  }
 ],
 "metadata": {
  "kernelspec": {
   "display_name": "Python 3",
   "language": "python",
   "name": "python3"
  },
  "language_info": {
   "codemirror_mode": {
    "name": "ipython",
    "version": 3
   },
   "file_extension": ".py",
   "mimetype": "text/x-python",
   "name": "python",
   "nbconvert_exporter": "python",
   "pygments_lexer": "ipython3",
   "version": "3.8.10"
  },
  "orig_nbformat": 4
 },
 "nbformat": 4,
 "nbformat_minor": 2
}
